{
 "cells": [
  {
   "cell_type": "code",
   "execution_count": 1,
   "id": "6f635b0e",
   "metadata": {
    "_cell_guid": "b1076dfc-b9ad-4769-8c92-a6c4dae69d19",
    "_uuid": "8f2839f25d086af736a60e9eeb907d3b93b6e0e5",
    "execution": {
     "iopub.execute_input": "2024-01-18T17:19:28.108572Z",
     "iopub.status.busy": "2024-01-18T17:19:28.107910Z",
     "iopub.status.idle": "2024-01-18T17:19:28.119775Z",
     "shell.execute_reply": "2024-01-18T17:19:28.117867Z"
    },
    "papermill": {
     "duration": 0.020439,
     "end_time": "2024-01-18T17:19:28.122997",
     "exception": false,
     "start_time": "2024-01-18T17:19:28.102558",
     "status": "completed"
    },
    "tags": []
   },
   "outputs": [],
   "source": [
    "import numpy as np # linear algebra\n",
    "np.random.seed(10)"
   ]
  },
  {
   "cell_type": "code",
   "execution_count": 2,
   "id": "c30fcb77",
   "metadata": {
    "execution": {
     "iopub.execute_input": "2024-01-18T17:19:28.131015Z",
     "iopub.status.busy": "2024-01-18T17:19:28.130410Z",
     "iopub.status.idle": "2024-01-18T17:19:28.140597Z",
     "shell.execute_reply": "2024-01-18T17:19:28.137892Z"
    },
    "papermill": {
     "duration": 0.018901,
     "end_time": "2024-01-18T17:19:28.145259",
     "exception": false,
     "start_time": "2024-01-18T17:19:28.126358",
     "status": "completed"
    },
    "tags": []
   },
   "outputs": [
    {
     "name": "stdout",
     "output_type": "stream",
     "text": [
      "[[0 0]\n",
      " [0 1]\n",
      " [1 0]\n",
      " [1 1]]\n",
      "[[0]\n",
      " [1]\n",
      " [1]\n",
      " [0]]\n"
     ]
    }
   ],
   "source": [
    "# datos de entrenamiento\n",
    "data_x = np.array([[0,0], [0,1], [1,0], [1,1]])\n",
    "\n",
    "data_y = np.array([[0], [1],[1],[0]])\n",
    "\n",
    "print(data_x)\n",
    "\n",
    "print(data_y)\n",
    "\n",
    "# number of samples\n",
    "N = 4"
   ]
  },
  {
   "cell_type": "code",
   "execution_count": 3,
   "id": "a36c7f92",
   "metadata": {
    "execution": {
     "iopub.execute_input": "2024-01-18T17:19:28.154152Z",
     "iopub.status.busy": "2024-01-18T17:19:28.153453Z",
     "iopub.status.idle": "2024-01-18T17:19:28.160654Z",
     "shell.execute_reply": "2024-01-18T17:19:28.158970Z"
    },
    "papermill": {
     "duration": 0.01452,
     "end_time": "2024-01-18T17:19:28.163548",
     "exception": false,
     "start_time": "2024-01-18T17:19:28.149028",
     "status": "completed"
    },
    "tags": []
   },
   "outputs": [],
   "source": [
    "# inicialización de pesos de las dos capas {2 (entrada), 2 (primera), 1 (segunda)}, incluyen bias.\n",
    "W_1 = np.random.randn(2, 2)\n",
    "W_2 = np.random.randn(2, 1)\n",
    "B_1 = np.random.randn(1, 2) # each column is a neuron, each row an input.\n",
    "B_2 = np.random.randn(1, 1) # each column is a neuron, each row an input."
   ]
  },
  {
   "cell_type": "code",
   "execution_count": 4,
   "id": "e3ecfce7",
   "metadata": {
    "execution": {
     "iopub.execute_input": "2024-01-18T17:19:28.170348Z",
     "iopub.status.busy": "2024-01-18T17:19:28.169958Z",
     "iopub.status.idle": "2024-01-18T17:19:28.175141Z",
     "shell.execute_reply": "2024-01-18T17:19:28.174042Z"
    },
    "papermill": {
     "duration": 0.010746,
     "end_time": "2024-01-18T17:19:28.176970",
     "exception": false,
     "start_time": "2024-01-18T17:19:28.166224",
     "status": "completed"
    },
    "tags": []
   },
   "outputs": [],
   "source": [
    "#sigmoid\n",
    "def sigmoid(x):\n",
    "    return 1 / (1 + np.exp(-x))\n",
    "\n",
    "def sigmoid_derivative(x):\n",
    "    return sigmoid(x) * (1 - sigmoid(x))"
   ]
  },
  {
   "cell_type": "code",
   "execution_count": 5,
   "id": "aa51caf7",
   "metadata": {
    "execution": {
     "iopub.execute_input": "2024-01-18T17:19:28.184276Z",
     "iopub.status.busy": "2024-01-18T17:19:28.183263Z",
     "iopub.status.idle": "2024-01-18T17:19:28.204179Z",
     "shell.execute_reply": "2024-01-18T17:19:28.202276Z"
    },
    "papermill": {
     "duration": 0.027156,
     "end_time": "2024-01-18T17:19:28.206856",
     "exception": false,
     "start_time": "2024-01-18T17:19:28.179700",
     "status": "completed"
    },
    "tags": []
   },
   "outputs": [
    {
     "name": "stdout",
     "output_type": "stream",
     "text": [
      "[[0.49409956]\n",
      " [0.4406352 ]\n",
      " [0.50512681]\n",
      " [0.45605755]]\n"
     ]
    }
   ],
   "source": [
    "# forwardfeed\n",
    "B_1_fixed = np.vstack([B_1] + [np.tile(B_1[0, :], (3, 1))])\n",
    "L_1 = data_x.dot(W_1) + B_1_fixed\n",
    "#print(L_1)\n",
    "#print(L_1.shape)\n",
    "L_1 = sigmoid(L_1)\n",
    "#print(L_1)\n",
    "\n",
    "L_1_bias = L_1#np.insert(L_1, 0, [1, 1, 1, 1], axis=1)\n",
    "#print(L_1_bias)\n",
    "#print(L_1_bias.shape)\n",
    "\n",
    "B_2_fixed = np.vstack([B_2] + [np.tile(B_2[0, :], (3, 1))])\n",
    "L_2 = L_1_bias.dot(W_2) + B_2_fixed\n",
    "#print(L_2)\n",
    "#print(L_2.shape)\n",
    "L_2= sigmoid(L_2)\n",
    "print(L_2)\n",
    "\n",
    "output = L_2"
   ]
  },
  {
   "cell_type": "code",
   "execution_count": 6,
   "id": "267e2f5d",
   "metadata": {
    "execution": {
     "iopub.execute_input": "2024-01-18T17:19:28.215527Z",
     "iopub.status.busy": "2024-01-18T17:19:28.214994Z",
     "iopub.status.idle": "2024-01-18T17:19:28.226722Z",
     "shell.execute_reply": "2024-01-18T17:19:28.224649Z"
    },
    "papermill": {
     "duration": 0.019203,
     "end_time": "2024-01-18T17:19:28.228988",
     "exception": false,
     "start_time": "2024-01-18T17:19:28.209785",
     "status": "completed"
    },
    "tags": []
   },
   "outputs": [
    {
     "name": "stdout",
     "output_type": "stream",
     "text": [
      "output layer\n",
      "[[ 0.49409956]\n",
      " [-0.5593648 ]\n",
      " [-0.49487319]\n",
      " [ 0.45605755]]\n",
      "[[ 0.1162822 ]\n",
      " [-0.13326709]\n",
      " [-0.11615038]\n",
      " [ 0.10828558]]\n",
      "[[-0.00105756]\n",
      " [-0.00358338]]\n",
      "[[-0.00621242]]\n",
      "hidden layer\n",
      "[[ 0.07225031 -0.08373313]\n",
      " [-0.08280364  0.09596371]\n",
      " [-0.07216841  0.08363821]\n",
      " [ 0.06728173 -0.07797488]]\n",
      "[[ 0.01668988 -0.019544  ]\n",
      " [-0.02045785  0.02241076]\n",
      " [-0.01524996  0.01857448]\n",
      " [ 0.01576088 -0.01732705]]\n",
      "[[ 0.00012773  0.00031186]\n",
      " [-0.00117424  0.00127093]]\n",
      "[[-0.00081426  0.00102855]]\n"
     ]
    }
   ],
   "source": [
    "#backpropagation\n",
    "print(\"output layer\")\n",
    "output_layer_error = output - data_y\n",
    "print(output_layer_error)\n",
    "\n",
    "output_layer_delta = output_layer_error * sigmoid_derivative(output)\n",
    "print(output_layer_delta)\n",
    "\n",
    "output_layer_weights_update = np.dot(L_1.T, output_layer_delta)/N\n",
    "print(output_layer_weights_update)\n",
    "\n",
    "output_layer_bias_gradient = np.sum(output_layer_delta, axis=0, keepdims=True) / N\n",
    "print(output_layer_bias_gradient)\n",
    "\n",
    "print(\"hidden layer\")\n",
    "hidden_layer_error = np.dot(output_layer_delta, W_2.T)\n",
    "print(hidden_layer_error)\n",
    "hidden_layer_delta = hidden_layer_error * sigmoid_derivative(L_1_bias) # podría ser L_1 ya que al no haber bias son lo mismo\n",
    "print(hidden_layer_delta)\n",
    "hidden_layer_weights_update = np.dot(data_x.T, hidden_layer_delta)/N\n",
    "print(hidden_layer_weights_update)\n",
    "hidden_layer_bias_gradient = np.sum(hidden_layer_delta, axis=0, keepdims=True) / N\n",
    "print(hidden_layer_bias_gradient)\n"
   ]
  },
  {
   "cell_type": "code",
   "execution_count": 7,
   "id": "c0a7d2c0",
   "metadata": {
    "execution": {
     "iopub.execute_input": "2024-01-18T17:19:28.236635Z",
     "iopub.status.busy": "2024-01-18T17:19:28.236006Z",
     "iopub.status.idle": "2024-01-18T17:19:28.244686Z",
     "shell.execute_reply": "2024-01-18T17:19:28.242643Z"
    },
    "papermill": {
     "duration": 0.016092,
     "end_time": "2024-01-18T17:19:28.247848",
     "exception": false,
     "start_time": "2024-01-18T17:19:28.231756",
     "status": "completed"
    },
    "tags": []
   },
   "outputs": [
    {
     "name": "stdout",
     "output_type": "stream",
     "text": [
      "[[ 0.62133597]\n",
      " [-0.72008556]]\n",
      "[[ 0.62144173]\n",
      " [-0.71972722]]\n",
      "[[0.00429143]]\n",
      "[[0.00491267]]\n",
      "[[ 1.3315865   0.71527897]\n",
      " [-1.54540029 -0.00838385]]\n",
      "[[ 1.33157373  0.71524779]\n",
      " [-1.54528287 -0.00851094]]\n",
      "[[0.26551159 0.10854853]]\n",
      "[[0.26559301 0.10844567]]\n"
     ]
    }
   ],
   "source": [
    "learning_rate = 0.1\n",
    "\n",
    "print(W_2)\n",
    "W_2 = W_2 - learning_rate*output_layer_weights_update\n",
    "print(W_2)\n",
    "\n",
    "print(B_2)\n",
    "B_2 = B_2 - learning_rate*output_layer_bias_gradient\n",
    "print(B_2)\n",
    "\n",
    "print(W_1)\n",
    "W_1 = W_1 - learning_rate*hidden_layer_weights_update\n",
    "print(W_1)\n",
    "\n",
    "print(B_1)\n",
    "B_1 = B_1 - learning_rate*hidden_layer_bias_gradient\n",
    "print(B_1)"
   ]
  }
 ],
 "metadata": {
  "kaggle": {
   "accelerator": "none",
   "dataSources": [],
   "dockerImageVersionId": 30635,
   "isGpuEnabled": false,
   "isInternetEnabled": false,
   "language": "python",
   "sourceType": "notebook"
  },
  "kernelspec": {
   "display_name": "Python 3",
   "language": "python",
   "name": "python3"
  },
  "language_info": {
   "codemirror_mode": {
    "name": "ipython",
    "version": 3
   },
   "file_extension": ".py",
   "mimetype": "text/x-python",
   "name": "python",
   "nbconvert_exporter": "python",
   "pygments_lexer": "ipython3",
   "version": "3.10.12"
  },
  "papermill": {
   "default_parameters": {},
   "duration": 3.627124,
   "end_time": "2024-01-18T17:19:28.777810",
   "environment_variables": {},
   "exception": null,
   "input_path": "__notebook__.ipynb",
   "output_path": "__notebook__.ipynb",
   "parameters": {},
   "start_time": "2024-01-18T17:19:25.150686",
   "version": "2.4.0"
  }
 },
 "nbformat": 4,
 "nbformat_minor": 5
}
